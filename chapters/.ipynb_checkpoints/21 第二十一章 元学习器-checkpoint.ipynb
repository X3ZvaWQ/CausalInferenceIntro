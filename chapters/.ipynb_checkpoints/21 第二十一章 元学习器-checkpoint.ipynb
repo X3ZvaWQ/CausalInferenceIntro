{
 "cells": [
  {
   "cell_type": "markdown",
   "metadata": {},
   "source": [
    "# 21 - 元学习器\n",
    " \n",
    " \n",
    "回顾一下，我们现在有兴趣找到干预效果的异质性，即确定实验单元对干预的不同反应。在这个框架中，我们要估计\n",
    " \n",
    "$\n",
    "\\tau(x) = E[Y_i(1) - Y_i(0)|X] = E[\\tau_i|X]\n",
    "$\n",
    " \n",
    "或者，在连续值情况下，估计\\\\(E[\\delta Y_i(t)|X]\\\\) 。换句话说，我们想知道实验单元对处理的敏感程度。这在我们无法干预所有人并且需要对干预对象进行优先排序的情况下非常有用，例如当您想提供折扣但预算有限时。\n",
    " \n",
    "以前，我们看到了如何转换结果变量 \\\\(Y\\\\)，以便我们可以将其插入预测模型并获得条件平均干预效果 (CATE) 估计。这种情况下，我们需要付出方差增加的代价。这是我们在数据科学中看到的很多东西。没有一种最好的方法，因为每种方法都有其缺点和优点。出于这个原因，值得学习许多技术，这样您就可以根据情况在其中一种与另一种之间进行权衡。本着这种精神，本章将重点介绍更多工具供您使用。\n",
    " \n",
    "![img](data/img/meta-learners/learned-new-move.png)\n",
    " \n",
    "元学习器是一种利用现成的预测机器学习方法来解决我们迄今为止一直在研究的同一问题的简单方法：估计 CATE。同样，它们都不是最好的，每个都有其弱点。\n",
    "\n",
    "我会尝试复习它们，但请记住，这些东西高度依赖于上下文。不仅如此，元学习器还部署了预测 ML 模型，这些模型可以从线性回归和增强决策树到神经网络和高斯过程。元学习器的成功也将高度依赖于它使用什么机器学习方法作为其组件。通常你只需要尝试许多不同的东西，看看什么最有效。"
   ]
  },
  {
   "cell_type": "code",
   "execution_count": 1,
   "metadata": {
    "tags": [
     "hide-input"
    ]
   },
   "outputs": [],
   "source": [
    "import pandas as pd\n",
    "import numpy as np\n",
    "from matplotlib import pyplot as plt\n",
    "import seaborn as sns\n",
    "from nb21 import cumulative_gain, elast"
   ]
  },
  {
   "cell_type": "markdown",
   "metadata": {},
   "source": [
    "在这里，我们将使用我们之前用过的相同数据，重新再把投资广告电子邮件数据用起来。 同样，这里的目标是找出谁会更好地回复电子邮件。 不过，有一点转折。 这一次，我们将使用非随机数据来训练模型和随机数据来验证它们。 处理非随机数据是一项艰巨的任务，因为元学习器需要对数据进行纠偏**并**估计 CATE。"
   ]
  },
  {
   "cell_type": "code",
   "execution_count": 2,
   "metadata": {},
   "outputs": [
    {
     "data": {
      "text/html": [
       "<div>\n",
       "<style scoped>\n",
       "    .dataframe tbody tr th:only-of-type {\n",
       "        vertical-align: middle;\n",
       "    }\n",
       "\n",
       "    .dataframe tbody tr th {\n",
       "        vertical-align: top;\n",
       "    }\n",
       "\n",
       "    .dataframe thead th {\n",
       "        text-align: right;\n",
       "    }\n",
       "</style>\n",
       "<table border=\"1\" class=\"dataframe\">\n",
       "  <thead>\n",
       "    <tr style=\"text-align: right;\">\n",
       "      <th></th>\n",
       "      <th>age</th>\n",
       "      <th>income</th>\n",
       "      <th>insurance</th>\n",
       "      <th>invested</th>\n",
       "      <th>em1</th>\n",
       "      <th>em2</th>\n",
       "      <th>em3</th>\n",
       "      <th>converted</th>\n",
       "    </tr>\n",
       "  </thead>\n",
       "  <tbody>\n",
       "    <tr>\n",
       "      <th>0</th>\n",
       "      <td>44.1</td>\n",
       "      <td>5483.80</td>\n",
       "      <td>6155.29</td>\n",
       "      <td>14294.81</td>\n",
       "      <td>0</td>\n",
       "      <td>0</td>\n",
       "      <td>1</td>\n",
       "      <td>0</td>\n",
       "    </tr>\n",
       "    <tr>\n",
       "      <th>1</th>\n",
       "      <td>39.8</td>\n",
       "      <td>2737.92</td>\n",
       "      <td>50069.40</td>\n",
       "      <td>7468.15</td>\n",
       "      <td>1</td>\n",
       "      <td>0</td>\n",
       "      <td>0</td>\n",
       "      <td>0</td>\n",
       "    </tr>\n",
       "    <tr>\n",
       "      <th>2</th>\n",
       "      <td>49.0</td>\n",
       "      <td>2712.51</td>\n",
       "      <td>5707.08</td>\n",
       "      <td>5095.65</td>\n",
       "      <td>0</td>\n",
       "      <td>0</td>\n",
       "      <td>1</td>\n",
       "      <td>1</td>\n",
       "    </tr>\n",
       "    <tr>\n",
       "      <th>3</th>\n",
       "      <td>39.7</td>\n",
       "      <td>2326.37</td>\n",
       "      <td>15657.97</td>\n",
       "      <td>6345.20</td>\n",
       "      <td>0</td>\n",
       "      <td>0</td>\n",
       "      <td>0</td>\n",
       "      <td>0</td>\n",
       "    </tr>\n",
       "    <tr>\n",
       "      <th>4</th>\n",
       "      <td>35.3</td>\n",
       "      <td>2787.26</td>\n",
       "      <td>27074.44</td>\n",
       "      <td>14114.86</td>\n",
       "      <td>1</td>\n",
       "      <td>1</td>\n",
       "      <td>0</td>\n",
       "      <td>0</td>\n",
       "    </tr>\n",
       "  </tbody>\n",
       "</table>\n",
       "</div>"
      ],
      "text/plain": [
       "    age   income  insurance  invested  em1  em2  em3  converted\n",
       "0  44.1  5483.80    6155.29  14294.81    0    0    1          0\n",
       "1  39.8  2737.92   50069.40   7468.15    1    0    0          0\n",
       "2  49.0  2712.51    5707.08   5095.65    0    0    1          1\n",
       "3  39.7  2326.37   15657.97   6345.20    0    0    0          0\n",
       "4  35.3  2787.26   27074.44  14114.86    1    1    0          0"
      ]
     },
     "execution_count": 2,
     "metadata": {},
     "output_type": "execute_result"
    }
   ],
   "source": [
    "test = pd.read_csv(\"./data/invest_email_rnd.csv\")\n",
    "train = pd.read_csv(\"./data/invest_email_biased.csv\")\n",
    "train.head()"
   ]
  },
  {
   "cell_type": "markdown",
   "metadata": {},
   "source": [
    "我们的结果变量是转化，我们的干预变量是 email-1。 让我们创建变量来存储这些特征以及我们用于搜索干预效果异质性的特征 \\\\(X\\\\)。"
   ]
  },
  {
   "cell_type": "code",
   "execution_count": 3,
   "metadata": {},
   "outputs": [],
   "source": [
    "y = \"converted\"\n",
    "T = \"em1\"\n",
    "X = [\"age\", \"income\", \"insurance\", \"invested\"]"
   ]
  },
  {
   "cell_type": "markdown",
   "metadata": {},
   "source": [
    "## S-Learner (aka, the Go-Horse Learner (to be translated))\n",
    " \n",
    "我们将使用的第一个学习器是 S-Learner。 这是我们能想到的最简单的学习器。 我们将使用单个（因此标注为S）机器学习模型 \\\\(M_s\\\\) 来估计\n",
    " \n",
    "$\n",
    "\\mu(x) = E[Y| T, X]\n",
    "$\n",
    " \n",
    "为此，我们将简单地将干预行为作为一个特征包含在模型中，以尝试预测结果 Y。"
   ]
  },
  {
   "cell_type": "code",
   "execution_count": 4,
   "metadata": {},
   "outputs": [],
   "source": [
    "from lightgbm import LGBMRegressor\n",
    "\n",
    "np.random.seed(123)\n",
    "s_learner = LGBMRegressor(max_depth=3, min_child_samples=30)\n",
    "s_learner.fit(train[X+[T]], train[y]);"
   ]
  },
  {
   "cell_type": "markdown",
   "metadata": {},
   "source": [
    "然后，我们可以在不同的干预方案下做出预测。 实验组和控制组之间的预测差异将是我们的 CATE 估计\n",
    " \n",
    "$\n",
    "\\hat{\\tau}(x)_i = M_s(X_i, T=1) - M_s(X_i, T=0)\n",
    "$\n",
    " \n",
    "如果我们把它放在图表中，这就是它的样子\n",
    " \n",
    "![img](data/img/meta-learners/s-learner.png)\n",
    " \n",
    "现在，让我们看看如何在代码中实现这个学习器。"
   ]
  },
  {
   "cell_type": "code",
   "execution_count": 5,
   "metadata": {},
   "outputs": [],
   "source": [
    "s_learner_cate_train = (s_learner.predict(train[X].assign(**{T: 1})) -\n",
    "                        s_learner.predict(train[X].assign(**{T: 0})))\n",
    "\n",
    "s_learner_cate_test = test.assign(\n",
    "    cate=(s_learner.predict(test[X].assign(**{T: 1})) - # predict under treatment\n",
    "          s_learner.predict(test[X].assign(**{T: 0}))) # predict under control\n",
    ")"
   ]
  },
  {
   "cell_type": "markdown",
   "metadata": {},
   "source": [
    "为了评估这个模型，我们将查看测试集中的累积增益曲线。 我也会对训练集数据绘制增益曲线。 由于训练是有偏差的，这条曲线不能说明模型是否良好，但它可以指出我们是否对训练集过度拟合。 发生这种情况时，训练数据集的增益曲线将非常高。 如果您想查看它的样子，请尝试将 `max_depth` 参数从 3 替换为 20。"
   ]
  },
  {
   "cell_type": "code",
   "execution_count": 6,
   "metadata": {
    "tags": [
     "hide-input"
    ]
   },
   "outputs": [
    {
     "data": {
      "image/png": "[encoded data removed]",
      "text/plain": [
       "<Figure size 432x288 with 1 Axes>"
      ]
     },
     "metadata": {
      "needs_background": "light"
     },
     "output_type": "display_data"
    }
   ],
   "source": [
    "gain_curve_test = cumulative_gain(s_learner_cate_test, \"cate\", y=\"converted\", t=\"em1\")\n",
    "gain_curve_train = cumulative_gain(train.assign(cate=s_learner_cate_train), \"cate\", y=\"converted\", t=\"em1\")\n",
    "plt.plot(gain_curve_test, color=\"C0\", label=\"Test\")\n",
    "plt.plot(gain_curve_train, color=\"C1\", label=\"Train\")\n",
    "plt.plot([0, 100], [0, elast(test, \"converted\", \"em1\")], linestyle=\"--\", color=\"black\", label=\"Baseline\")\n",
    "plt.legend()\n",
    "plt.title(\"S-Learner\");"
   ]
  },
  {
   "cell_type": "markdown",
   "metadata": {},
   "source": [
    "![img](data/img/meta-learners/not-great-not-terrible.jpeg)\n",
    " \n",
    "从累积增益中我们可以看出，S-learner 虽然简单，但在这个数据集上表现还不错。 要记住的一件事是，目前这个表现是特定于这个数据集的。 根据你实际拥有的数据类型，S-learner 可能会表现得更好或更差。 在实践中，我发现对于要解决任何因果问题，S-learner 是可以作为第一个备选最优方案，主要是因为它的简单性。 不仅如此，S-learner 可以处理连续和离散干预变量，而本章中的其他学习器只能处理离散干预变量。\n",
    " \n",
    "S-learner 的主要缺点是它倾向于将干预效果估计值趋于零。 这是由于 S-learner 通常使用正则化的机器学习模型，而正则化会约束干预效果的估计值。 Chernozhukov et al (2016) 使用模拟数据概述了这个问题：\n",
    " \n",
    "![img](data/img/meta-learners/zero-bias-s-learner.png)\n",
    " \n",
    "在这里，他们使用 S-learner 绘制了真实因果效应（红色轮廓）和估计的因果效应 \\\\(\\tau - \\hat{\\tau}\\\\) 之间的差异。 因果效应的估计值严重下偏。 换句话说，真正的因果效应通常比估计的更大。\n",
    " \n",
    "更糟糕的是，如果干预变量相对于其他协变量在解释结果方面的影响非常弱，S-learner 可以完全丢弃干预变量。 请注意，这与您使用的所选 ML 模型高度相关。 正则化越强，问题就越大。 解决这个问题的一个尝试是我们将看到的下一个学习器。"
   ]
  },
  {
   "cell_type": "markdown",
   "metadata": {},
   "source": [
    "## T-Learner (T-学习器)\n",
    " \n",
    "为了解决干预变量在模型拟合过程中被丢弃的现象，T-learner 试图强制让学习器首先通过干预变量分类对样本进行拆分。我们将不使用单个模型，而是每个处理变量的分类数值使用一个模型。在二分类情况下，我们只需要估计两个模型（因此得名 T）：\n",
    " \n",
    "$\n",
    "\\mu_0(x) = E[Y| T=0, X]\n",
    "$\n",
    " \n",
    "$\n",
    "\\mu_1(x) = E[Y| T=1，X]\n",
    "$\n",
    " \n",
    "然后，在预测时，我们可以对每种处理进行反事实预测，并得到如下 CATE。\n",
    " \n",
    "$\n",
    "\\hat{\\tau}(x)_i = M_1(X_i) - M_0(X_i)\n",
    "$\n",
    " \n",
    "这是这个学习器的示意图\n",
    " \n",
    "![img](data/img/meta-learners/t-learner.png)\n",
    " \n",
    "我们可以做的另一个简单改进是使用倾向得分加权来消除我们的模型的偏差。这将产生一个与双重鲁棒估计器非常相似的模型，但其中使用的回归模型被更通用的机器学习模型所取代。\n",
    " \n",
    "$\n",
    "\\hat{ATE} = \\frac{1}{N}\\sum \\bigg( \\dfrac{T_i(Y_i - \\hat{M_1}(X_i))}{\\hat{P}(X_i)} + \\hat{ M_1}(X_i) \\bigg) - \\frac{1}{N}\\sum \\bigg( \\dfrac{(1-T_i)(Y_i - \\hat{M_0}(X_i))}{1-\\hat{P }(X_i)} + \\hat{M_0}(X_i) \\bigg)\n",
    "$\n",
    " \n",
    "顺便说一句，你也可以用 S-learner 做同样的事情，我只是之前没有这样做，因为我不想一次扔给你太多的新概念。现在，关于理论足够了。让我们试试代码。"
   ]
  },
  {
   "cell_type": "code",
   "execution_count": 7,
   "metadata": {},
   "outputs": [],
   "source": [
    "from sklearn.linear_model import LogisticRegression\n",
    "\n",
    "np.random.seed(123)\n",
    "\n",
    "m0 = LGBMRegressor(max_depth=2, min_child_samples=60)\n",
    "m1 = LGBMRegressor(max_depth=2, min_child_samples=60)\n",
    "\n",
    "# fit the propensity score model\n",
    "ps_m = LogisticRegression(solver=\"lbfgs\", penalty='none')\n",
    "ps_m.fit(train[X], train[T])\n",
    "ps_score = ps_m.predict_proba(train[X])\n",
    "\n",
    "m0.fit(train.query(f\"{T}==0\")[X], train.query(f\"{T}==0\")[y],\n",
    "       sample_weight=1/ps_m.predict_proba(train.query(f\"{T}==0\")[X])[:, 0])\n",
    "\n",
    "m1.fit(train.query(f\"{T}==1\")[X], train.query(f\"{T}==1\")[y],\n",
    "       sample_weight=1/ps_m.predict_proba(train.query(f\"{T}==1\")[X])[:, 1])\n",
    "\n",
    "# estimate the CATE\n",
    "t_learner_cate_train = m1.predict(train[X]) - m0.predict(train[X])\n",
    "t_learner_cate_test = test.assign(cate=m1.predict(test[X]) - m0.predict(test[X]))"
   ]
  },
  {
   "cell_type": "code",
   "execution_count": 8,
   "metadata": {
    "tags": [
     "hide-input"
    ]
   },
   "outputs": [
    {
     "data": {
      "image/png": "[encoded data removed]",
      "text/plain": [
       "<Figure size 432x288 with 1 Axes>"
      ]
     },
     "metadata": {
      "needs_background": "light"
     },
     "output_type": "display_data"
    }
   ],
   "source": [
    "gain_curve_test = cumulative_gain(t_learner_cate_test, \"cate\", y=\"converted\", t=\"em1\")\n",
    "gain_curve_train = cumulative_gain(train.assign(cate=t_learner_cate_train), \"cate\", y=\"converted\", t=\"em1\")\n",
    "plt.plot(gain_curve_test, color=\"C0\", label=\"Test\")\n",
    "plt.plot(gain_curve_train, color=\"C1\", label=\"Train\")\n",
    "plt.plot([0, 100], [0, elast(test, \"converted\", \"em1\")], linestyle=\"--\", color=\"black\", label=\"Baseline\")\n",
    "plt.legend();\n",
    "plt.title(\"T-Learner\");"
   ]
  },
  {
   "cell_type": "markdown",
   "metadata": {},
   "source": [
    "T-learner 在这个数据集上也表现良好。测试性能看起来与我们使用 S-learner 得到的结果并没有太大区别。也许是因为干预的效果不是那么弱。此外，我们可以看到训练集上的表现远高于测试集上的表现。这表明模型过度拟合。之所以会发生这种情况，是因为我们仅将每个模型拟合到数据的子集上。由于数据点较少，模型可能正在学习一些噪音。\n",
    " \n",
    "T-Learner 避免了没法将干预效果较弱的干预变量不剔除于模型的问题，但它仍然会受到正则化偏差的影响。考虑以下取自 Kunzela 等人2019年论文描述的情况。这里，未经干预的样本数据很多，而受到干预的样本数据很少，这是许多实际应用中常见的情况，因为进行干预通常成本很高。现在假设您在结果 Y 中存在**干预效果恒定**，但有着非线性的关系。我们可以在下图中看到发生了什么\n",
    " \n",
    "![img](data/img/meta-learners/t-learner-problem.png)\n",
    " \n",
    "在这里，由于我们干预后的观察结果很少，\\\\(M_1\\\\) 将是一个非常简单的模型（在这种情况下是线性的）以避免过度拟合。 \\\\(M_0\\\\) 会更复杂，但这没关系，因为大量的数据可以防止过度拟合。从机器学习的角度来看，这一切都是合理的。但是，如果我们使用这些模型来计算类别 \\\\(\\hat{\\tau}=M_1(X) - M_0(X)\\\\)，则 \\\\(M_0(X)\\\\) 的非线性减去\\\\(M_1(X)\\\\) 的线性将导致非线性 CATE（蓝线减去红线），这是错误的，因为在这种情况下 CATE 是恒定的并且等于 1。\n",
    " \n",
    "这里发生的是，未干预样本对应的模型可以拾取非线性，但干预样本的模型不能，因为我们使用正则化来处理小样本量。当然，您可以在该模型上使用较少的正则化，但是小样本量会导致您过拟合。好像我们被夹在一块石头和一个坚硬的地方之间。为了解决这个问题，我们可以使用 Kunzela 等人在同一篇论文中提出的 X-learner。"
   ]
  },
  {
   "cell_type": "markdown",
   "metadata": {},
   "source": [
    "## X-Learner（X-学习器）\n",
    " \n",
    "X-learner 的解释比之前的学习器要复杂得多，但它的实现非常简单，所以不用担心。 X-Learner 有两个阶段和一个倾向评分模型。第一个与 T-learner 相同。首先，我们将样本分成干预过的和未经干预的，并为干预过样本的和未干预样本分别拟合一个 ML 模型。\n",
    " \n",
    "$\n",
    "\\hat{M}_0(X) \\approx E[Y| T=0, X]\n",
    "$\n",
    " \n",
    "$\n",
    "\\hat{M}_1(X) \\approx E[Y| T=1，X]\n",
    "$\n",
    " \n",
    "现在，事情开始出现转机。对于第二阶段，我们使用上述模型输入干预样本和未干预样本的干预效果。\n",
    " \n",
    "$\n",
    "\\hat{\\tau}(X, T=0) = \\hat{M}_1(X, T=0) - Y_{T=0}\n",
    "$\n",
    " \n",
    "$\n",
    "\\hat{\\tau}(X, T=1) = Y_{T=1} - \\hat{M}_0(X, T=1)\n",
    "$\n",
    " \n",
    "然后，我们再拟合两个模型来预测这些影响\n",
    " \n",
    "$\n",
    "\\hat{M}_{\\tau 0}(X) \\approx E[\\hat{\\tau}(X)|T=0]\n",
    "$\n",
    " \n",
    "$\n",
    "\\hat{M}_{\\tau 1}(X) \\approx E[\\hat{\\tau}(X)|T=1]\n",
    "$\n",
    " \n",
    "如果我们将这个应用到我们之前展示过的图像上，\\\\(\\hat{\\tau}(X, T=0)\\\\)，对未干预样本的估算干预效果，将是红色+号对应的线，而红色虚线对应的是是 \\\\(\\hat{M}_{\\tau 0}(X)\\\\)。注意这个模型是错误的。因为 \\\\(\\hat{\\tau}(X, T=0)\\\\) 是使用正则化的简单模型得到的，对干预后样本的 \\\\(\\hat{M}_1\\\\) 估计。它输入的治疗效果是非线性的，因为它**没有**捕获 Y 变量中的非线性关系。\n",
    " \n",
    "相反，蓝点是干预样本的估算干预效果，\\\\(\\hat{\\tau}(X, T=1)\\\\)。这些影响是使用正确的模型，\\\\(M_0\\\\)，在未经干预的大量样本中进行训练得到的结果。因此，由于其估算的干预效果是正确的，我们能够训练出正确的第二阶段模型 \\\\(\\hat{M}_{\\tau 1}(X)\\\\)，如蓝线所示。\n",
    " \n",
    "![img](data/img/meta-learners/second-stage-x.png)\n",
    " \n",
    "所以我们有一个模型是错误的，因为我们错误地输入了干预效果，而另一个模型是正确的，因为我们正确地估算了这些值。现在，我们需要一种将两者结合起来的方法，以赋予正确模型更多的权重。这就是倾向得分模型发挥作用的地方。设 \\\\(\\hat{e}(x)\\\\) 为倾向得分模型，我们可以将两个第二阶段模型组合如下：\n",
    " \n",
    "$\n",
    "\\hat{\\tau(x)} = \\hat{M}_{\\tau 0}(X)(\\hat{e}(x)) + \\hat{M}_{\\tau 1}(X)( 1-\\hat{e}(x))\n",
    "$\n",
    " \n",
    "由于干预过的样本很少，\\\\(\\hat{e}(x)\\\\) 非常小。这会给错误的模型 \\\\(\\hat{M}_{\\tau 0}(X)\\\\) 赋予很小的权重。\n",
    "\n",
    "相比之下，\\\\(1-\\hat{e}(x)\\\\) 接近于1，所以我们会给正确的模型很高的权重 \\\\(\\hat{M}_{\\tau 1}( X）\\\\）。更一般地说，使用倾向得分的加权平均将确保我们对 CATE 模型给予更多的权重，该模型的估计使用更有可能进行干预的样本。换句话说，我们将倾向于使用更多数据训练的模型。下图显示了 X-learner 和 T-learner 给出的估计 CATE。\n",
    " \n",
    "![img](data/img/meta-learners/t-vs-x-learner.png)\n",
    " \n",
    "正如我们所看到的，与 T-learner 相比，X-learner 在纠正非线性估计的错误 CATE 方面做得更好。一般来说，当一个干预组比另一个大得多时，X-learner 的表现会更好。\n",
    " \n",
    "我知道这可能有点拗口，但是一旦我们开始实施，希望它会很清楚。总结一下，这里是这个学习器的示意图。\n",
    " \n",
    "![img](data/img/meta-learners/x-learner.png)\n",
    " \n",
    "先来看看代码！首先，我们有个第一阶段模型，它与 T-Learner 完全相同。"
   ]
  },
  {
   "cell_type": "code",
   "execution_count": 9,
   "metadata": {},
   "outputs": [],
   "source": [
    "from sklearn.linear_model import LogisticRegression\n",
    "\n",
    "np.random.seed(123)\n",
    "\n",
    "# first stage models\n",
    "m0 = LGBMRegressor(max_depth=2, min_child_samples=30)\n",
    "m1 = LGBMRegressor(max_depth=2, min_child_samples=30)\n",
    "\n",
    "# propensity score model\n",
    "g = LogisticRegression(solver=\"lbfgs\", penalty='none') \n",
    "\n",
    "m0.fit(train.query(f\"{T}==0\")[X], train.query(f\"{T}==0\")[y])\n",
    "m1.fit(train.query(f\"{T}==1\")[X], train.query(f\"{T}==1\")[y])\n",
    "                       \n",
    "g.fit(train[X], train[T]);"
   ]
  },
  {
   "cell_type": "markdown",
   "metadata": {},
   "source": [
    "现在我们估算干预效果，并将其用于第二阶段模型的拟合。"
   ]
  },
  {
   "cell_type": "code",
   "execution_count": 10,
   "metadata": {},
   "outputs": [],
   "source": [
    "d_train = np.where(train[T]==0,\n",
    "                   m1.predict(train[X]) - train[y],\n",
    "                   train[y] - m0.predict(train[X]))\n",
    "\n",
    "# second stage\n",
    "mx0 = LGBMRegressor(max_depth=2, min_child_samples=30)\n",
    "mx1 = LGBMRegressor(max_depth=2, min_child_samples=30)\n",
    "\n",
    "mx0.fit(train.query(f\"{T}==0\")[X], d_train[train[T]==0])\n",
    "mx1.fit(train.query(f\"{T}==1\")[X], d_train[train[T]==1]);"
   ]
  },
  {
   "cell_type": "markdown",
   "metadata": {},
   "source": [
    "最后，我们使用倾向性得分模型得到正确的预测。"
   ]
  },
  {
   "cell_type": "code",
   "execution_count": 11,
   "metadata": {},
   "outputs": [],
   "source": [
    "def ps_predict(df, t): \n",
    "    return g.predict_proba(df[X])[:, t]\n",
    "    \n",
    "    \n",
    "x_cate_train = (ps_predict(train,0)*mx0.predict(train[X]) +\n",
    "                ps_predict(train,1)*mx1.predict(train[X]))\n",
    "\n",
    "x_cate_test = test.assign(cate=(ps_predict(test,0)*mx0.predict(test[X]) +\n",
    "                                ps_predict(test,1)*mx1.predict(test[X])))"
   ]
  },
  {
   "cell_type": "markdown",
   "metadata": {},
   "source": [
    "让我们看看我们的X-learner在测试集上的表现。我们任然需要绘制累计增益曲线。"
   ]
  },
  {
   "cell_type": "code",
   "execution_count": 12,
   "metadata": {
    "tags": [
     "hide-input"
    ]
   },
   "outputs": [
    {
     "data": {
      "image/png": "[encoded data removed]",
      "text/plain": [
       "<Figure size 432x288 with 1 Axes>"
      ]
     },
     "metadata": {
      "needs_background": "light"
     },
     "output_type": "display_data"
    }
   ],
   "source": [
    "gain_curve_test = cumulative_gain(x_cate_test, \"cate\", y=\"converted\", t=\"em1\")\n",
    "gain_curve_train = cumulative_gain(train.assign(cate=x_cate_train), \"cate\", y=\"converted\", t=\"em1\")\n",
    "plt.plot(gain_curve_test, color=\"C0\", label=\"Test\")\n",
    "plt.plot(gain_curve_train, color=\"C1\", label=\"Train\")\n",
    "plt.plot([0, 100], [0, elast(test, \"converted\", \"em1\")], linestyle=\"--\", color=\"black\", label=\"Baseline\")\n",
    "plt.legend();\n",
    "plt.title(\"X-Learner\");"
   ]
  },
  {
   "cell_type": "markdown",
   "metadata": {},
   "source": [
    "我们在这个数据集上的表现仍然不错。在这里，S、T 和 X 学习器的表现似乎非常相似。尽管如此，我认为值得了解所有这些元学习器，这样你就可以使用最适合你的东西。请记住，性能也高度依赖于我们选择的基础机器学习模型。在这里，我们使用 Gradient Boosted Trees 完成了所有工作，但也许其他模型甚至是使用不同超参数的Gradient Boosted Trees模型可能会更好。\n",
    " \n",
    "## 关键思想\n",
    " \n",
    "同样，我们可以做的最简单的事情是使用单个或 S-learner 并将干预作为特征。当干预不是结果的弱预测因素时，这往往会很好地发挥作用。但如果不是这样，S-learner 往往会得到偏向于零的干预效果估计量，甚至完全放弃干预变量作为影响因子。稍微复杂一点的情形下，我们可以通过使用 T-learner 来强制让学习器估计干预的影响。在这里，我们为每个干预水平拟合一个机器学习模型。当所有干预水平都有足够的样本时，这很有效，但当一个干预水平的样本量较小时，它可能会失败，从而迫使模型被高度正则化。为了解决这个问题，我们可以使用 X-learner 增加另一个级别的复杂性，其中我们有两个拟合阶段，并且我们使用倾向得分模型来纠正由于模型使用了很少数据点来进行估计造成潜在错误。\n",
    " \n",
    "这些学习器（S-learner 除外）的一个大问题是他们采用二元或分类处理。还有一个我们还没有看到的额外学习器，它更通用：R-learner。但别担心，我们将有一整章专门介绍它。\n",
    " "
   ]
  }
 ],
 "metadata": {
  "celltoolbar": "Tags",
  "kernelspec": {
   "display_name": "Python 3",
   "language": "python",
   "name": "python3"
  },
  "language_info": {
   "codemirror_mode": {
    "name": "ipython",
    "version": 3
   },
   "file_extension": ".py",
   "mimetype": "text/x-python",
   "name": "python",
   "nbconvert_exporter": "python",
   "pygments_lexer": "ipython3",
   "version": "3.8.5"
  }
 },
 "nbformat": 4,
 "nbformat_minor": 4
}
